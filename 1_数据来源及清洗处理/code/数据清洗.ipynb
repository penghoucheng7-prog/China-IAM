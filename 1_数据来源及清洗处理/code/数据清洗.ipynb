{
 "cells": [
  {
   "cell_type": "markdown",
   "id": "182282a8-9e4d-4d90-a29b-e4f7b29ed540",
   "metadata": {},
   "source": [
    "# 10-20RMSE&20-50RMSE"
   ]
  },
  {
   "cell_type": "markdown",
   "id": "da20e1da-afbd-4c3f-98be-ffb6f28fefc5",
   "metadata": {},
   "source": [
    "## 观察数据情况"
   ]
  },
  {
   "cell_type": "markdown",
   "id": "f65940a5-6c8f-4662-9c5f-e929c1d5087d",
   "metadata": {},
   "source": [
    "### 变量缺失率情况"
   ]
  },
  {
   "cell_type": "code",
   "execution_count": 5,
   "id": "2e245a51-ce63-4a85-9c77-24565a395a0f",
   "metadata": {},
   "outputs": [
    {
     "name": "stdout",
     "output_type": "stream",
     "text": [
      "Variable 列中总共有 1028 个唯一变量。\n",
      "缺失率统计结果已保存到: C:\\Users\\phc\\Desktop\\Variable_missing_rates.csv\n"
     ]
    }
   ],
   "source": [
    "import pandas as pd\n",
    "\n",
    "# 1. 读取数据\n",
    "file_path = r'C:\\Users\\phc\\Desktop\\IamDataFrame2010_2100.csv'\n",
    "df = pd.read_csv(file_path)\n",
    "\n",
    "# 2. 获取 Variable 的唯一数量\n",
    "unique_variables = df['Variable'].nunique()\n",
    "print(f\"Variable 列中总共有 {unique_variables} 个唯一变量。\")\n",
    "\n",
    "# 3. 筛选需要的年份\n",
    "target_years = ['2010', '2015', '2020']\n",
    "available_years = [col for col in target_years if col in df.columns]\n",
    "\n",
    "# 4. 分组统计每个 Variable 的缺失率\n",
    "group = df.groupby('Variable')[available_years]\n",
    "missing_stats = group.apply(lambda x: x.isna().sum() / len(x)).reset_index()\n",
    "\n",
    "# 5. 重命名列\n",
    "missing_stats = missing_stats.rename(columns={col: f\"{col}_missing_rate\" for col in available_years})\n",
    "\n",
    "# 6. 保存结果\n",
    "output_path = r'C:\\Users\\phc\\Desktop\\Variable_missing_rates.csv'\n",
    "missing_stats.to_csv(output_path, index=False)\n",
    "\n",
    "print(f\"缺失率统计结果已保存到: {output_path}\")"
   ]
  },
  {
   "cell_type": "markdown",
   "id": "7f614a58-388a-496c-a28a-93011d2e31f8",
   "metadata": {},
   "source": [
    "### 模型情景数量情况"
   ]
  },
  {
   "cell_type": "code",
   "execution_count": 6,
   "id": "982539bf-70da-401b-907f-2e043f530fde",
   "metadata": {},
   "outputs": [
    {
     "name": "stdout",
     "output_type": "stream",
     "text": [
      "统计结果已保存到: C:\\Users\\phc\\Desktop\\Model_Scenario_Count.csv\n"
     ]
    }
   ],
   "source": [
    "import pandas as pd\n",
    "\n",
    "# 1. 读取数据\n",
    "file_path = r'C:\\Users\\phc\\Desktop\\IamDataFrame.csv'\n",
    "df = pd.read_csv(file_path)\n",
    "\n",
    "# 2. 统计每个 Model 对应的唯一 Scenario 数量\n",
    "model_scenario_counts = df.groupby('Model')['Scenario'].nunique().reset_index()\n",
    "model_scenario_counts = model_scenario_counts.rename(columns={'Scenario': 'Scenario_Count'})\n",
    "\n",
    "# 3. 保存结果为 CSV 文件\n",
    "output_path = r'C:\\Users\\phc\\Desktop\\Model_Scenario_Count.csv'\n",
    "model_scenario_counts.to_csv(output_path, index=False)\n",
    "\n",
    "print(f\"统计结果已保存到: {output_path}\")"
   ]
  },
  {
   "cell_type": "markdown",
   "id": "847eb519-2db5-425d-b272-76e5662e22d7",
   "metadata": {},
   "source": [
    "### 每个模型在每年的缺失率"
   ]
  },
  {
   "cell_type": "code",
   "execution_count": 8,
   "id": "4055dcb9-e06e-4474-a668-d58a1d25a9c4",
   "metadata": {},
   "outputs": [
    {
     "name": "stdout",
     "output_type": "stream",
     "text": [
      "缺失率统计结果已保存到: C:\\Users\\phc\\Desktop\\Model_Yearly_Missing_Rate.csv\n"
     ]
    }
   ],
   "source": [
    "import pandas as pd\n",
    "\n",
    "# 1. 读取数据\n",
    "file_path = r'C:\\Users\\phc\\Desktop\\IamDataFrame2010_2100.csv'\n",
    "df = pd.read_csv(file_path)\n",
    "\n",
    "# 2. 年份列（2010-2100，每5年）\n",
    "year_columns = [str(year) for year in range(2010, 2101, 5)]\n",
    "available_years = [col for col in year_columns if col in df.columns]\n",
    "\n",
    "# 3. 缺失率计算：每个 Model 对每一列（年份）的缺失数 ÷ 总行数\n",
    "model_group = df.groupby('Model')\n",
    "missing_rate = model_group[available_years].apply(lambda x: x.isna().sum() / len(x)).reset_index()\n",
    "\n",
    "# 4. 列重命名：添加 _missing_rate 后缀\n",
    "missing_rate = missing_rate.rename(columns={col: f\"{col}_missing_rate\" for col in available_years})\n",
    "\n",
    "# 5. 保存结果为 CSV\n",
    "output_path = r'C:\\Users\\phc\\Desktop\\Model_Yearly_Missing_Rate.csv'\n",
    "missing_rate.to_csv(output_path, index=False)\n",
    "\n",
    "print(f\"缺失率统计结果已保存到: {output_path}\")"
   ]
  },
  {
   "cell_type": "markdown",
   "id": "01cf04c6-0dbf-4eff-8341-efb40415f8b6",
   "metadata": {},
   "source": [
    "## 数据处理"
   ]
  },
  {
   "cell_type": "markdown",
   "id": "5def2297-5735-4d5a-9a58-70ecf40c3d2c",
   "metadata": {},
   "source": [
    "### 中短期样本集中存在的2020年后（不包含2020年）样本值的缺失问题，使用线性插值平滑"
   ]
  },
  {
   "cell_type": "code",
   "execution_count": 9,
   "id": "326a628b-4158-4a88-8414-57fe9eab2876",
   "metadata": {},
   "outputs": [
    {
     "name": "stdout",
     "output_type": "stream",
     "text": [
      "线性插值完成，文件已保存至: C:\\Users\\phc\\Desktop\\Middle_short_model_interpolated.xlsx\n"
     ]
    }
   ],
   "source": [
    "import pandas as pd\n",
    "\n",
    "# 1. 读取 Excel 文件\n",
    "file_path = r'C:\\Users\\phc\\Desktop\\Middle_short_model.xlsx'\n",
    "df = pd.read_excel(file_path)\n",
    "\n",
    "# 2. 定义年份列：仅考虑2025~2050年之间的插值\n",
    "year_columns = [str(year) for year in range(2025, 2051, 5)]\n",
    "available_years = [col for col in year_columns if col in df.columns]\n",
    "\n",
    "# 3. 仅对这些列做线性插值（按行）\n",
    "# 保证插值只作用于2025-2050范围内的缺失值\n",
    "df[available_years] = df[available_years].transpose().interpolate(method='linear', axis=0).transpose()\n",
    "\n",
    "# 4. 保存处理后的数据\n",
    "output_path = r'C:\\Users\\phc\\Desktop\\Middle_short_model_interpolated.xlsx'\n",
    "df.to_excel(output_path, index=False)\n",
    "\n",
    "print(f\"线性插值完成，文件已保存至: {output_path}\")"
   ]
  },
  {
   "cell_type": "markdown",
   "id": "d3cd1083-8bee-4d57-a375-2d02687c5c3d",
   "metadata": {},
   "source": [
    "## 模型变量平衡性匹配"
   ]
  },
  {
   "cell_type": "markdown",
   "id": "3d08dc02-ec09-4f3a-a475-197989e5784c",
   "metadata": {},
   "source": [
    "### 模型包含的变量删除"
   ]
  },
  {
   "cell_type": "code",
   "execution_count": 13,
   "id": "4c456a5f-9e36-461c-aea6-f2d676b88358",
   "metadata": {},
   "outputs": [
    {
     "name": "stdout",
     "output_type": "stream",
     "text": [
      "模型变量对齐表（含变量数量）已保存到: C:\\Users\\phc\\Desktop\\Model_Variable_Matrix.xlsx\n"
     ]
    }
   ],
   "source": [
    "import pandas as pd\n",
    "\n",
    "# 1. 读取数据\n",
    "file_path = r'C:\\Users\\phc\\Desktop\\Middle_short_model.xlsx'\n",
    "df = pd.read_excel(file_path)\n",
    "\n",
    "# 2. 获取每个模型的唯一变量列表\n",
    "model_var_map = df.groupby('Model')['Variable'].unique()\n",
    "\n",
    "# 3. 获取每个模型的变量数量\n",
    "model_var_count = model_var_map.apply(len)\n",
    "\n",
    "# 4. 创建对齐的变量 DataFrame\n",
    "max_length = model_var_map.apply(len).max()\n",
    "model_var_matrix = pd.DataFrame({model: pd.Series(variables) for model, variables in model_var_map.items()})\n",
    "\n",
    "# 5. 在模型变量列表前添加一行变量数量\n",
    "# 先将变量数构建为 DataFrame 并与变量列表 DataFrame 拼接\n",
    "count_row = pd.DataFrame([model_var_count])\n",
    "full_matrix = pd.concat([count_row, model_var_matrix], ignore_index=True)\n",
    "\n",
    "# 6. 保存结果为 Excel 文件\n",
    "output_path = r'C:\\Users\\phc\\Desktop\\Model_Variable_Matrix.xlsx'\n",
    "full_matrix.to_excel(output_path, index=False)\n",
    "\n",
    "print(f\"模型变量对齐表（含变量数量）已保存到: {output_path}\")"
   ]
  },
  {
   "cell_type": "markdown",
   "id": "5567f6d7-2910-4107-a282-7f1ebc51c174",
   "metadata": {},
   "source": [
    "### 变量包含的模型数量删除"
   ]
  },
  {
   "cell_type": "code",
   "execution_count": 15,
   "id": "161485c3-3ff0-4145-b931-81b130ee3ac1",
   "metadata": {},
   "outputs": [
    {
     "name": "stdout",
     "output_type": "stream",
     "text": [
      "变量-模型长格式表（含模型数量）已保存至: C:\\Users\\phc\\Desktop\\Variable_Model_Long_With_Count.xlsx\n"
     ]
    }
   ],
   "source": [
    "import pandas as pd\n",
    "\n",
    "# 1. 读取 Excel 数据\n",
    "file_path = r'C:\\Users\\phc\\Desktop\\Middle_short_model_interpolated.xlsx'\n",
    "df = pd.read_excel(file_path)\n",
    "\n",
    "# 2. 提取唯一 Variable-Model 组合\n",
    "var_model_df = df[['Variable', 'Model']].drop_duplicates().sort_values(['Variable', 'Model'])\n",
    "\n",
    "# 3. 统计每个 Variable 出现的 Model 数量\n",
    "model_counts = var_model_df.groupby('Variable')['Model'].nunique().reset_index()\n",
    "model_counts = model_counts.rename(columns={'Model': 'Model_Count'})\n",
    "\n",
    "# 4. 合并回长格式表格\n",
    "result_df = pd.merge(var_model_df, model_counts, on='Variable')\n",
    "\n",
    "# 5. 保存结果\n",
    "output_path = r'C:\\Users\\phc\\Desktop\\Variable_Model_Long_With_Count.xlsx'\n",
    "result_df.to_excel(output_path, index=False)\n",
    "\n",
    "print(f\"变量-模型长格式表（含模型数量）已保存至: {output_path}\")"
   ]
  },
  {
   "cell_type": "code",
   "execution_count": 16,
   "id": "1bdebab6-6f41-4b11-a770-d3dd80011a09",
   "metadata": {},
   "outputs": [
    {
     "name": "stdout",
     "output_type": "stream",
     "text": [
      "变量-模型统计（长格式）结果已保存至: C:\\Users\\phc\\Desktop\\Variable_Model_Count_Long_Format.xlsx\n"
     ]
    }
   ],
   "source": [
    "import pandas as pd\n",
    "\n",
    "# 1. 读取 Excel 文件\n",
    "file_path = r'C:\\Users\\phc\\Desktop\\Variable contain model.xlsx'\n",
    "df = pd.read_excel(file_path)\n",
    "\n",
    "# 2. 提取唯一 Variable - Model 对\n",
    "var_model_df = df[['Variable', 'Model']].drop_duplicates().sort_values(['Variable', 'Model'])\n",
    "\n",
    "# 3. 统计每个 Variable 包含的 Model 数量\n",
    "model_counts = var_model_df.groupby('Variable')['Model'].nunique().reset_index()\n",
    "model_counts = model_counts.rename(columns={'Model': 'Model_Count'})\n",
    "\n",
    "# 4. 合并模型数量信息\n",
    "result_df = pd.merge(var_model_df, model_counts, on='Variable')\n",
    "\n",
    "# 5. 保存结果\n",
    "output_path = r'C:\\Users\\phc\\Desktop\\Variable_Model_Count_Long_Format.xlsx'\n",
    "result_df.to_excel(output_path, index=False)\n",
    "\n",
    "print(f\"变量-模型统计（长格式）结果已保存至: {output_path}\")\n"
   ]
  },
  {
   "cell_type": "code",
   "execution_count": 17,
   "id": "69dea216-95f0-450a-a256-d556711e8c25",
   "metadata": {},
   "outputs": [
    {
     "name": "stdout",
     "output_type": "stream",
     "text": [
      "要删除的唯一变量名称列表已保存至: C:\\Users\\phc\\Desktop\\要删除的唯一变量统计.xlsx\n"
     ]
    }
   ],
   "source": [
    "import pandas as pd\n",
    "\n",
    "# 1. 读取 Excel 文件\n",
    "file_path = r'C:\\Users\\phc\\Desktop\\删除的变量.xlsx'\n",
    "df = pd.read_excel(file_path)\n",
    "\n",
    "# 2. 获取唯一变量名称列表（去重）\n",
    "unique_variables = df['Variable'].dropna().unique()\n",
    "\n",
    "# 3. 转换为 DataFrame\n",
    "result_df = pd.DataFrame({'Variable': sorted(unique_variables)})\n",
    "\n",
    "# 4. 保存为 Excel 文件\n",
    "output_path = r'C:\\Users\\phc\\Desktop\\要删除的唯一变量统计.xlsx'\n",
    "result_df.to_excel(output_path, index=False)\n",
    "\n",
    "print(f\"要删除的唯一变量名称列表已保存至: {output_path}\")\n"
   ]
  },
  {
   "cell_type": "code",
   "execution_count": 18,
   "id": "a9ea1125-a793-4e8c-bdb9-298701652fd2",
   "metadata": {},
   "outputs": [
    {
     "name": "stdout",
     "output_type": "stream",
     "text": [
      "指定变量已删除，结果文件已保存至: C:\\Users\\phc\\Desktop\\Middle_short_model_filtered.xlsx\n"
     ]
    }
   ],
   "source": [
    "import pandas as pd\n",
    "\n",
    "# 1. 读取主数据集（包含变量）\n",
    "main_file = r'C:\\Users\\phc\\Desktop\\Middle_short_model_interpolated.xlsx'\n",
    "df_main = pd.read_excel(main_file)\n",
    "\n",
    "# 2. 读取待删除变量列表\n",
    "delete_file = r'C:\\Users\\phc\\Desktop\\要删除的唯一变量统计.xlsx'\n",
    "df_delete = pd.read_excel(delete_file)\n",
    "\n",
    "# 3. 获取要删除的变量名称集合（去重+非空）\n",
    "delete_variables = set(df_delete['Variable'].dropna().unique())\n",
    "\n",
    "# 4. 删除主表中这些变量对应的行\n",
    "df_filtered = df_main[~df_main['Variable'].isin(delete_variables)]\n",
    "\n",
    "# 5. 保存结果为新 Excel 文件\n",
    "output_path = r'C:\\Users\\phc\\Desktop\\Middle_short_model_filtered.xlsx'\n",
    "df_filtered.to_excel(output_path, index=False)\n",
    "\n",
    "print(f\"指定变量已删除，结果文件已保存至: {output_path}\")"
   ]
  },
  {
   "cell_type": "markdown",
   "id": "2d8ae953-5c59-44d4-bd87-8aa764d2727e",
   "metadata": {},
   "source": [
    "# 随机森林归因&计量检验"
   ]
  },
  {
   "cell_type": "markdown",
   "id": "d0a9e774-d6ac-44c5-940a-4eaab4957268",
   "metadata": {},
   "source": [
    "## 合并AR6和CD-link"
   ]
  },
  {
   "cell_type": "code",
   "execution_count": 2,
   "id": "c7a2e4eb-7f79-451d-af8b-29856cda2cac",
   "metadata": {},
   "outputs": [],
   "source": [
    "import pandas as pd\n",
    "import os\n",
    "\n",
    "# 输入文件路径\n",
    "file1 = r\"C:\\Users\\phc\\Desktop\\AR6_data\\excel_data\\AR6_Scenarios_Database_R10_regions_v1.1.csv\\AR6_Scenarios_Database_R10_regions_v1.1.csv\"\n",
    "file2 = r\"C:\\Users\\phc\\Desktop\\CD-link\\snapshot_all_regions_iamc_cdlinks.csv\"\n",
    "\n",
    "# 输出文件路径\n",
    "output_folder = r\"C:\\Users\\phc\\Desktop\\中国模型比较\\中国模型比较2\\1_数据来源及清洗处理\\data_processing\\随机森林_计量检验\"\n",
    "output_file = os.path.join(output_folder, \"IamDataFrame2010_2100_world.csv\")\n",
    "\n",
    "# 读取两个数据集\n",
    "df1 = pd.read_csv(file1, low_memory=False)\n",
    "df2 = pd.read_csv(file2, low_memory=False)\n",
    "\n",
    "# 外连接合并\n",
    "df_merged = pd.merge(df1, df2, how=\"outer\")\n",
    "\n",
    "# 保存合并后的数据\n",
    "df_merged.to_csv(output_file, index=False, encoding=\"utf-8-sig\")\n"
   ]
  },
  {
   "cell_type": "markdown",
   "id": "055ab5da-97b4-40f4-8e4d-56e2ad8056f9",
   "metadata": {},
   "source": [
    "## 模型情景数量情况"
   ]
  },
  {
   "cell_type": "code",
   "execution_count": 4,
   "id": "42aee2b6-a333-4580-a894-658656a7cd29",
   "metadata": {},
   "outputs": [
    {
     "name": "stdout",
     "output_type": "stream",
     "text": [
      "统计结果已保存到: C:\\Users\\phc\\Desktop\\中国模型比较\\中国模型比较2\\1_数据来源及清洗处理\\data_processing\\随机森林_计量检验\\Model_Scenario_Count_world.csv\n"
     ]
    }
   ],
   "source": [
    "import pandas as pd\n",
    "\n",
    "# 1. 读取数据（添加 encoding 参数）\n",
    "file_path = r\"C:\\Users\\phc\\Desktop\\中国模型比较\\中国模型比较2\\1_数据来源及清洗处理\\data_processing\\随机森林_计量检验\\IamDataFrame2010_2050_world.csv\"\n",
    "df = pd.read_csv(file_path, encoding='gbk')  # 如果仍报错可尝试 encoding='ISO-8859-1'\n",
    "\n",
    "# 2. 统计每个 Model 对应的唯一 Scenario 数量\n",
    "model_scenario_counts = df.groupby('Model')['Scenario'].nunique().reset_index()\n",
    "model_scenario_counts = model_scenario_counts.rename(columns={'Scenario': 'Scenario_Count'})\n",
    "\n",
    "# 3. 保存结果为 CSV 文件\n",
    "output_path = r'C:\\Users\\phc\\Desktop\\中国模型比较\\中国模型比较2\\1_数据来源及清洗处理\\data_processing\\随机森林_计量检验\\Model_Scenario_Count_world.csv'\n",
    "model_scenario_counts.to_csv(output_path, index=False, encoding='utf-8-sig')\n",
    "\n",
    "print(f\"统计结果已保存到: {output_path}\")"
   ]
  },
  {
   "cell_type": "markdown",
   "id": "28d4eabc-6005-4c6b-b6b3-255a63a41829",
   "metadata": {},
   "source": [
    "## 删除情景缺失多的模型"
   ]
  },
  {
   "cell_type": "code",
   "execution_count": 6,
   "id": "4bbc0e87-4305-4847-90bc-810b1c5a3a25",
   "metadata": {},
   "outputs": [],
   "source": [
    "import pandas as pd\n",
    "import os\n",
    "\n",
    "# 输入与输出路径设置\n",
    "input_file = r\"C:\\Users\\phc\\Desktop\\中国模型比较\\中国模型比较2\\1_数据来源及清洗处理\\data_processing\\随机森林_计量检验\\IamDataFrame2010_2050_world.csv\"\n",
    "output_file = r\"C:\\Users\\phc\\Desktop\\中国模型比较\\中国模型比较2\\1_数据来源及清洗处理\\data_processing\\随机森林_计量检验\\IamDataFrame2010_2050_world_scenario.csv\"\n",
    "\n",
    "# 要删除的模型名称列表\n",
    "models_to_remove = [\n",
    "    \"GAINS-dw4\",\n",
    "    \"HEB 2.0\",\n",
    "    \"ALADIN 1.0\",\n",
    "    \"GCAM-USA CD-LINKS\",\n",
    "    \"GENeSYS-MOD 2.9\",\n",
    "    \"GMM-17\",\n",
    "    \"BLUES-Brazil 1.0\",\n",
    "    \"DNE21+ V.ADVANCE\",\n",
    "    \"GCAM-USA 5.3\",\n",
    "    \"IIASAPOP 2.0\",\n",
    "    \"DNE21+ V.14\",\n",
    "    \"DNE21+ V.14 (national)\",\n",
    "    \"AIM/Enduse 3.0\",\n",
    "    \"AIM/Enduse[Japan]\"\n",
    "]\n",
    "\n",
    "# 读取数据\n",
    "df = pd.read_csv(input_file, encoding='gbk', low_memory=False)\n",
    "\n",
    "# 删除 Model 列中属于 models_to_remove 的行\n",
    "df_filtered = df[~df['Model'].isin(models_to_remove)]\n",
    "\n",
    "# 保存结果\n",
    "df_filtered.to_csv(output_file, index=False, encoding='utf-8-sig')"
   ]
  },
  {
   "cell_type": "markdown",
   "id": "6ca5b9ff-a6b4-47de-a92f-343db3154ed7",
   "metadata": {},
   "source": [
    "## 删除2050年为缺失值的行"
   ]
  },
  {
   "cell_type": "code",
   "execution_count": 7,
   "id": "c2fcbcbe-84cc-468b-a82b-999f5b02a7e4",
   "metadata": {},
   "outputs": [],
   "source": [
    "import pandas as pd\n",
    "\n",
    "# 输入和输出路径\n",
    "input_file = r\"C:\\Users\\phc\\Desktop\\中国模型比较\\中国模型比较2\\1_数据来源及清洗处理\\data_processing\\随机森林_计量检验\\IamDataFrame2010_2050_world_scenario.csv\"\n",
    "output_file = r\"C:\\Users\\phc\\Desktop\\中国模型比较\\中国模型比较2\\1_数据来源及清洗处理\\data_processing\\随机森林_计量检验\\IamDataFrame2010_2050_world_scenario_cleaned.csv\"\n",
    "\n",
    "# 读取文件（指定编码，如前遇到问题可尝试 'ISO-8859-1' 或 'gbk'）\n",
    "df = pd.read_csv(input_file, encoding='utf-8', low_memory=False)\n",
    "\n",
    "# 删除“2050”列值为缺失的数据行\n",
    "df_cleaned = df.dropna(subset=['2050'])\n",
    "\n",
    "# 保存结果\n",
    "df_cleaned.to_csv(output_file, index=False, encoding='utf-8-sig')"
   ]
  },
  {
   "cell_type": "markdown",
   "id": "b6fa25fa-a905-4225-b608-3f7990e23a39",
   "metadata": {},
   "source": [
    "## 2020年后（不包含2020年）样本值的缺失问题，使用线性插值平滑"
   ]
  },
  {
   "cell_type": "code",
   "execution_count": 8,
   "id": "31153338-e360-43aa-a8de-793d501c8548",
   "metadata": {},
   "outputs": [
    {
     "name": "stdout",
     "output_type": "stream",
     "text": [
      "线性插值完成，文件已保存至: C:\\Users\\phc\\Desktop\\中国模型比较\\中国模型比较2\\1_数据来源及清洗处理\\data_processing\\随机森林_计量检验\\Middle_short_model_interpolated_world.xlsx\n"
     ]
    }
   ],
   "source": [
    "import pandas as pd\n",
    "\n",
    "# 1. 读取 CSV 文件（注意不是 Excel 文件）\n",
    "file_path = r'C:\\Users\\phc\\Desktop\\中国模型比较\\中国模型比较2\\1_数据来源及清洗处理\\data_processing\\随机森林_计量检验\\IamDataFrame2010_2050_world_scenario_cleaned.csv'\n",
    "df = pd.read_csv(file_path, encoding='utf-8', low_memory=False)\n",
    "\n",
    "# 2. 定义年份列：仅考虑2025~2050年之间的插值\n",
    "year_columns = [str(year) for year in range(2025, 2051, 5)]\n",
    "available_years = [col for col in year_columns if col in df.columns]\n",
    "\n",
    "# 3. 仅对这些列做线性插值（按行）\n",
    "df[available_years] = df[available_years].transpose().interpolate(method='linear', axis=0).transpose()\n",
    "\n",
    "# 4. 保存处理后的数据到 Excel 文件\n",
    "output_path = r'C:\\Users\\phc\\Desktop\\中国模型比较\\中国模型比较2\\1_数据来源及清洗处理\\data_processing\\随机森林_计量检验\\Middle_short_model_interpolated_world.xlsx'\n",
    "df.to_excel(output_path, index=False)\n",
    "\n",
    "print(f\"线性插值完成，文件已保存至: {output_path}\")"
   ]
  },
  {
   "cell_type": "markdown",
   "id": "b3dcc7de-dcd9-4460-aaf7-64e82981f92d",
   "metadata": {},
   "source": [
    "## 模型包含的变量统计"
   ]
  },
  {
   "cell_type": "code",
   "execution_count": 10,
   "id": "90ef78a4-3e79-4547-be3e-ecda40ce3971",
   "metadata": {},
   "outputs": [
    {
     "name": "stdout",
     "output_type": "stream",
     "text": [
      "模型变量对齐表（含变量数量）已保存到: C:\\Users\\phc\\Desktop\\中国模型比较\\中国模型比较2\\1_数据来源及清洗处理\\data_processing\\随机森林_计量检验\\Model_Variable_Matrix_world.xlsx\n"
     ]
    }
   ],
   "source": [
    "import pandas as pd\n",
    "\n",
    "# 1. 读取数据\n",
    "file_path = r'C:\\Users\\phc\\Desktop\\中国模型比较\\中国模型比较2\\1_数据来源及清洗处理\\data_processing\\随机森林_计量检验\\Middle_short_model_interpolated_world.xlsx'\n",
    "df = pd.read_excel(file_path)\n",
    "\n",
    "# 2. 获取每个模型的唯一变量列表\n",
    "model_var_map = df.groupby('Model')['Variable'].unique()\n",
    "\n",
    "# 3. 获取每个模型的变量数量\n",
    "model_var_count = model_var_map.apply(len)\n",
    "\n",
    "# 4. 创建对齐的变量 DataFrame\n",
    "max_length = model_var_map.apply(len).max()\n",
    "model_var_matrix = pd.DataFrame({model: pd.Series(variables) for model, variables in model_var_map.items()})\n",
    "\n",
    "# 5. 在模型变量列表前添加一行变量数量\n",
    "count_row = pd.DataFrame([model_var_count])\n",
    "full_matrix = pd.concat([count_row, model_var_matrix], ignore_index=True)\n",
    "\n",
    "# 6. 保存结果为 Excel 文件\n",
    "output_path = r'C:\\Users\\phc\\Desktop\\中国模型比较\\中国模型比较2\\1_数据来源及清洗处理\\data_processing\\随机森林_计量检验\\Model_Variable_Matrix_world.xlsx'\n",
    "full_matrix.to_excel(output_path, index=False)\n",
    "\n",
    "print(f\"模型变量对齐表（含变量数量）已保存到: {output_path}\")"
   ]
  },
  {
   "cell_type": "markdown",
   "id": "0df10e15-f36b-4b53-a7ec-a72afdd88d91",
   "metadata": {},
   "source": [
    "## 模型直接删除到与Middle_short_model_filtered.xlsx一样"
   ]
  },
  {
   "cell_type": "code",
   "execution_count": 11,
   "id": "32eb9cab-8d84-4b71-8bc5-33458ac234a0",
   "metadata": {},
   "outputs": [
    {
     "name": "stdout",
     "output_type": "stream",
     "text": [
      "筛选后的模型数据已保存至: C:\\Users\\phc\\Desktop\\中国模型比较\\中国模型比较2\\1_数据来源及清洗处理\\data_processing\\随机森林_计量检验\\Middle_short_model_interpolated_selected_models.xlsx\n"
     ]
    }
   ],
   "source": [
    "import pandas as pd\n",
    "\n",
    "# 输入文件路径\n",
    "input_path = r'C:\\Users\\phc\\Desktop\\中国模型比较\\中国模型比较2\\1_数据来源及清洗处理\\data_processing\\随机森林_计量检验\\Middle_short_model_interpolated_world.xlsx'\n",
    "\n",
    "# 输出文件路径\n",
    "output_path = r'C:\\Users\\phc\\Desktop\\中国模型比较\\中国模型比较2\\1_数据来源及清洗处理\\data_processing\\随机森林_计量检验\\Middle_short_model_interpolated_selected_models.xlsx'\n",
    "\n",
    "# 要保留的模型列表\n",
    "models_to_keep = [\n",
    "    \"AIM/CGE 2.1\", \"AIM/CGE 2.2\", \"C3IAM 1.0\", \"C3IAM 2.0\", \"COFFEE 1.1\",\n",
    "    \"COPPE-COFFEE 1.0\", \"GCAM 4.0\", \"GCAM 5.2\", \"GCAM 5.3\", \"GCAM-PR 5.3\",\n",
    "    \"GCAM5.2_NET\", \"GEM-E3 V1\", \"GEM-E3_V2021\", \"GEMINI-E3 7.0\",\n",
    "    \"IMACLIM 1.1\", \"IMAGE 3.0\", \"IMAGE 3.0.1\", \"IMAGE 3.2\"\n",
    "]\n",
    "\n",
    "# 读取 Excel 文件\n",
    "df = pd.read_excel(input_path)\n",
    "\n",
    "# 筛选指定模型\n",
    "filtered_df = df[df['Model'].isin(models_to_keep)]\n",
    "\n",
    "# 保存结果\n",
    "filtered_df.to_excel(output_path, index=False)\n",
    "\n",
    "print(f\"筛选后的模型数据已保存至: {output_path}\")"
   ]
  },
  {
   "cell_type": "markdown",
   "id": "7e6bd9c2-a6f9-4179-823e-9a7380b381d7",
   "metadata": {},
   "source": [
    "## 变量包含的模型数量删除，删除了包含模型家族（无版本迭代）数量少于4个的变量"
   ]
  },
  {
   "cell_type": "markdown",
   "id": "3bac714f-3216-407e-9b4a-cc2f394829a1",
   "metadata": {},
   "source": [
    "### 统计每个变量包含的模型数量"
   ]
  },
  {
   "cell_type": "code",
   "execution_count": 12,
   "id": "ea5b2c13-07a9-4dbf-9342-46ed1f7285ba",
   "metadata": {},
   "outputs": [
    {
     "name": "stdout",
     "output_type": "stream",
     "text": [
      "每个变量对应的唯一模型数量已保存到: C:\\Users\\phc\\Desktop\\中国模型比较\\中国模型比较2\\1_数据来源及清洗处理\\data_processing\\随机森林_计量检验\\Variable_Model_Count.xlsx\n"
     ]
    }
   ],
   "source": [
    "import pandas as pd\n",
    "\n",
    "# 输入文件路径\n",
    "input_file = r'C:\\Users\\phc\\Desktop\\中国模型比较\\中国模型比较2\\1_数据来源及清洗处理\\data_processing\\随机森林_计量检验\\Middle_short_model_interpolated_selected_models.xlsx'\n",
    "\n",
    "# 输出文件路径\n",
    "output_file = r'C:\\Users\\phc\\Desktop\\中国模型比较\\中国模型比较2\\1_数据来源及清洗处理\\data_processing\\随机森林_计量检验\\Variable_Model_Count.xlsx'\n",
    "\n",
    "# 读取数据\n",
    "df = pd.read_excel(input_file)\n",
    "\n",
    "# 按 Variable 分组，统计唯一的 Model 数量\n",
    "variable_model_counts = df.groupby('Variable')['Model'].nunique().reset_index()\n",
    "variable_model_counts.columns = ['Variable', 'Unique_Model_Count']\n",
    "\n",
    "# 保存结果\n",
    "variable_model_counts.to_excel(output_file, index=False)\n",
    "\n",
    "print(f\"每个变量对应的唯一模型数量已保存到: {output_file}\")\n"
   ]
  },
  {
   "cell_type": "markdown",
   "id": "c9910080-2402-45a0-a12a-02453dfc9d61",
   "metadata": {},
   "source": [
    "### 删除包含模型家族少于4的变量"
   ]
  },
  {
   "cell_type": "code",
   "execution_count": 13,
   "id": "c3bdb0c3-7434-4aec-86d6-6c01053314f3",
   "metadata": {},
   "outputs": [
    {
     "name": "stdout",
     "output_type": "stream",
     "text": [
      "筛选后的数据已保存到: C:\\Users\\phc\\Desktop\\中国模型比较\\中国模型比较2\\1_数据来源及清洗处理\\data_processing\\随机森林_计量检验\\Middle_short_model_filtered_world.xlsx\n"
     ]
    }
   ],
   "source": [
    "import pandas as pd\n",
    "\n",
    "# 输入文件路径\n",
    "main_file = r'C:\\Users\\phc\\Desktop\\中国模型比较\\中国模型比较2\\1_数据来源及清洗处理\\data_processing\\随机森林_计量检验\\Middle_short_model_interpolated_selected_models.xlsx'\n",
    "remove_file = r'C:\\Users\\phc\\Desktop\\中国模型比较\\中国模型比较2\\var_deleted.xlsx'\n",
    "\n",
    "# 输出文件路径（更新为你指定的文件名）\n",
    "output_file = r'C:\\Users\\phc\\Desktop\\中国模型比较\\中国模型比较2\\1_数据来源及清洗处理\\data_processing\\随机森林_计量检验\\Middle_short_model_filtered_world.xlsx'\n",
    "\n",
    "# 读取主数据和待删除变量列表\n",
    "df_main = pd.read_excel(main_file)\n",
    "df_remove = pd.read_excel(remove_file)\n",
    "\n",
    "# 获取待删除的变量名列表\n",
    "variables_to_delete = df_remove['Variable'].unique()\n",
    "\n",
    "# 删除匹配的变量\n",
    "df_filtered = df_main[~df_main['Variable'].isin(variables_to_delete)]\n",
    "\n",
    "# 保存结果\n",
    "df_filtered.to_excel(output_file, index=False)\n",
    "\n",
    "print(f\"筛选后的数据已保存到: {output_file}\")\n"
   ]
  }
 ],
 "metadata": {
  "kernelspec": {
   "display_name": "Python 3 (ipykernel)",
   "language": "python",
   "name": "python3"
  },
  "language_info": {
   "codemirror_mode": {
    "name": "ipython",
    "version": 3
   },
   "file_extension": ".py",
   "mimetype": "text/x-python",
   "name": "python",
   "nbconvert_exporter": "python",
   "pygments_lexer": "ipython3",
   "version": "3.10.18"
  }
 },
 "nbformat": 4,
 "nbformat_minor": 5
}
